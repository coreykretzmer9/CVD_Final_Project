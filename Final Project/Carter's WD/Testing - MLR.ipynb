{
 "cells": [
  {
   "cell_type": "code",
   "execution_count": 38,
   "metadata": {},
   "outputs": [],
   "source": [
    "import matplotlib.pyplot as plt\n",
    "import numpy as np\n",
    "import pandas as pd\n",
    "from sklearn import linear_model\n",
    "import statsmodels.api as sm"
   ]
  },
  {
   "cell_type": "code",
   "execution_count": 39,
   "metadata": {},
   "outputs": [
    {
     "data": {
      "text/html": [
       "<div>\n",
       "<style scoped>\n",
       "    .dataframe tbody tr th:only-of-type {\n",
       "        vertical-align: middle;\n",
       "    }\n",
       "\n",
       "    .dataframe tbody tr th {\n",
       "        vertical-align: top;\n",
       "    }\n",
       "\n",
       "    .dataframe thead th {\n",
       "        text-align: right;\n",
       "    }\n",
       "</style>\n",
       "<table border=\"1\" class=\"dataframe\">\n",
       "  <thead>\n",
       "    <tr style=\"text-align: right;\">\n",
       "      <th></th>\n",
       "      <th>Unnamed: 0</th>\n",
       "      <th>FIPS Code</th>\n",
       "      <th>County, State</th>\n",
       "      <th>Population</th>\n",
       "      <th>Deaths</th>\n",
       "      <th>Crude Rate</th>\n",
       "      <th>Median Household Income ($)</th>\n",
       "      <th>% &lt;High School</th>\n",
       "      <th>% High School</th>\n",
       "      <th>% Associate</th>\n",
       "      <th>...</th>\n",
       "      <th>% White</th>\n",
       "      <th>% Black</th>\n",
       "      <th>% Native American</th>\n",
       "      <th>% Asian</th>\n",
       "      <th>% Pacific Islander</th>\n",
       "      <th>% Other</th>\n",
       "      <th>% Two or More Races</th>\n",
       "      <th>Estimated Diabetes Rate Per 1,000</th>\n",
       "      <th>% Daily Smokers</th>\n",
       "      <th>% Population Obese</th>\n",
       "    </tr>\n",
       "  </thead>\n",
       "  <tbody>\n",
       "    <tr>\n",
       "      <th>0</th>\n",
       "      <td>0</td>\n",
       "      <td>1001</td>\n",
       "      <td>Autauga County, AL</td>\n",
       "      <td>144568.0</td>\n",
       "      <td>188.0</td>\n",
       "      <td>130.0</td>\n",
       "      <td>53748</td>\n",
       "      <td>12.4</td>\n",
       "      <td>34.3</td>\n",
       "      <td>28.7</td>\n",
       "      <td>...</td>\n",
       "      <td>76.860615</td>\n",
       "      <td>18.521681</td>\n",
       "      <td>0.410543</td>\n",
       "      <td>0.806554</td>\n",
       "      <td>0.056313</td>\n",
       "      <td>1.387854</td>\n",
       "      <td>1.956439</td>\n",
       "      <td>13.2</td>\n",
       "      <td>18.41</td>\n",
       "      <td>37.5</td>\n",
       "    </tr>\n",
       "    <tr>\n",
       "      <th>1</th>\n",
       "      <td>1</td>\n",
       "      <td>1003</td>\n",
       "      <td>Baldwin County, AL</td>\n",
       "      <td>514161.0</td>\n",
       "      <td>581.0</td>\n",
       "      <td>113.0</td>\n",
       "      <td>50976</td>\n",
       "      <td>10.0</td>\n",
       "      <td>28.7</td>\n",
       "      <td>31.8</td>\n",
       "      <td>...</td>\n",
       "      <td>86.432259</td>\n",
       "      <td>9.319834</td>\n",
       "      <td>0.679164</td>\n",
       "      <td>0.670643</td>\n",
       "      <td>0.000000</td>\n",
       "      <td>0.885169</td>\n",
       "      <td>2.012932</td>\n",
       "      <td>9.3</td>\n",
       "      <td>16.02</td>\n",
       "      <td>31.0</td>\n",
       "    </tr>\n",
       "    <tr>\n",
       "      <th>2</th>\n",
       "      <td>2</td>\n",
       "      <td>1005</td>\n",
       "      <td>Barbour County, AL</td>\n",
       "      <td>71488.0</td>\n",
       "      <td>118.0</td>\n",
       "      <td>165.1</td>\n",
       "      <td>32111</td>\n",
       "      <td>26.2</td>\n",
       "      <td>34.9</td>\n",
       "      <td>26.0</td>\n",
       "      <td>...</td>\n",
       "      <td>46.704742</td>\n",
       "      <td>47.929661</td>\n",
       "      <td>0.172841</td>\n",
       "      <td>0.484707</td>\n",
       "      <td>0.000000</td>\n",
       "      <td>4.129406</td>\n",
       "      <td>0.578643</td>\n",
       "      <td>16.5</td>\n",
       "      <td>18.73</td>\n",
       "      <td>44.3</td>\n",
       "    </tr>\n",
       "    <tr>\n",
       "      <th>3</th>\n",
       "      <td>3</td>\n",
       "      <td>1007</td>\n",
       "      <td>Bibb County, AL</td>\n",
       "      <td>62810.0</td>\n",
       "      <td>123.0</td>\n",
       "      <td>195.8</td>\n",
       "      <td>40113</td>\n",
       "      <td>19.3</td>\n",
       "      <td>41.8</td>\n",
       "      <td>26.9</td>\n",
       "      <td>...</td>\n",
       "      <td>76.953748</td>\n",
       "      <td>21.212121</td>\n",
       "      <td>0.358852</td>\n",
       "      <td>0.062024</td>\n",
       "      <td>0.000000</td>\n",
       "      <td>0.035442</td>\n",
       "      <td>1.377813</td>\n",
       "      <td>13.7</td>\n",
       "      <td>22.62</td>\n",
       "      <td>37.8</td>\n",
       "    </tr>\n",
       "    <tr>\n",
       "      <th>4</th>\n",
       "      <td>4</td>\n",
       "      <td>1009</td>\n",
       "      <td>Blount County, AL</td>\n",
       "      <td>148438.0</td>\n",
       "      <td>194.0</td>\n",
       "      <td>130.7</td>\n",
       "      <td>46377</td>\n",
       "      <td>20.0</td>\n",
       "      <td>32.9</td>\n",
       "      <td>34.0</td>\n",
       "      <td>...</td>\n",
       "      <td>95.440524</td>\n",
       "      <td>1.568349</td>\n",
       "      <td>0.348329</td>\n",
       "      <td>0.159434</td>\n",
       "      <td>0.000000</td>\n",
       "      <td>0.868224</td>\n",
       "      <td>1.615139</td>\n",
       "      <td>12.6</td>\n",
       "      <td>19.88</td>\n",
       "      <td>34.4</td>\n",
       "    </tr>\n",
       "  </tbody>\n",
       "</table>\n",
       "<p>5 rows × 27 columns</p>\n",
       "</div>"
      ],
      "text/plain": [
       "   Unnamed: 0  FIPS Code       County, State  Population  Deaths  Crude Rate  \\\n",
       "0           0       1001  Autauga County, AL    144568.0   188.0       130.0   \n",
       "1           1       1003  Baldwin County, AL    514161.0   581.0       113.0   \n",
       "2           2       1005  Barbour County, AL     71488.0   118.0       165.1   \n",
       "3           3       1007     Bibb County, AL     62810.0   123.0       195.8   \n",
       "4           4       1009   Blount County, AL    148438.0   194.0       130.7   \n",
       "\n",
       "   Median Household Income ($)  % <High School  % High School  % Associate  \\\n",
       "0                        53748            12.4           34.3         28.7   \n",
       "1                        50976            10.0           28.7         31.8   \n",
       "2                        32111            26.2           34.9         26.0   \n",
       "3                        40113            19.3           41.8         26.9   \n",
       "4                        46377            20.0           32.9         34.0   \n",
       "\n",
       "          ...            % White    % Black  % Native American   % Asian  \\\n",
       "0         ...          76.860615  18.521681           0.410543  0.806554   \n",
       "1         ...          86.432259   9.319834           0.679164  0.670643   \n",
       "2         ...          46.704742  47.929661           0.172841  0.484707   \n",
       "3         ...          76.953748  21.212121           0.358852  0.062024   \n",
       "4         ...          95.440524   1.568349           0.348329  0.159434   \n",
       "\n",
       "  % Pacific Islander   % Other  % Two or More Races  \\\n",
       "0           0.056313  1.387854             1.956439   \n",
       "1           0.000000  0.885169             2.012932   \n",
       "2           0.000000  4.129406             0.578643   \n",
       "3           0.000000  0.035442             1.377813   \n",
       "4           0.000000  0.868224             1.615139   \n",
       "\n",
       "   Estimated Diabetes Rate Per 1,000  % Daily Smokers  % Population Obese  \n",
       "0                               13.2            18.41                37.5  \n",
       "1                                9.3            16.02                31.0  \n",
       "2                               16.5            18.73                44.3  \n",
       "3                               13.7            22.62                37.8  \n",
       "4                               12.6            19.88                34.4  \n",
       "\n",
       "[5 rows x 27 columns]"
      ]
     },
     "execution_count": 39,
     "metadata": {},
     "output_type": "execute_result"
    }
   ],
   "source": [
    "# Read the csv file into a pandas DataFrame\n",
    "\n",
    "mortality = pd.read_csv('SuperP_Group_CRC_Dataset.csv')\n",
    "mortality.head()"
   ]
  },
  {
   "cell_type": "code",
   "execution_count": 54,
   "metadata": {
    "nbgrader": {
     "grade": false,
     "grade_id": "cell-a61368ced39885a2",
     "locked": false,
     "schema_version": 1,
     "solution": true
    }
   },
   "outputs": [
    {
     "name": "stdout",
     "output_type": "stream",
     "text": [
      "(2600, 10) (2600, 1)\n"
     ]
    }
   ],
   "source": [
    "# Assign X (data) and y (target)\n",
    "#All columns X = mortality[['% <High School','% High School','% Associate','% >Bachelor','MYS','Median Household Income ($)', '% White', '% Black', '% Asian', '% Pacific Islander', '% Other', '% Two or More Races','Estimated Diabetes Rate Per 1,000','% Daily Smokers','% Population Obese']]\n",
    "#Jason's columns X = mortality[['Income Level', 'MYS', 'Education Level', '% White', '% Black', '% Native American', '% Asian', '% Pacific Islander', '% Other', '% Two or More Races', 'Estimated Diabetes Rate Per 1,000', '% Daily Smokers', '% Population Obese']]\n",
    "### BEGIN SOLUTION\n",
    "# X = mortality[['Median Household Income ($)','% Daily Smokers','% Population Obese']]\n",
    "# X_socio = mortality[['Median Household Income ($)', 'MYS' ]]\n",
    "# X_comorbidity=mortality[['Estimated Diabetes Rate Per 1,000', '% Daily Smokers', '% Population Obese']]\n",
    "\n",
    "X= mortality[['Median Household Income ($)','MYS','Estimated Diabetes Rate Per 1,000','% White', '% Black', '% Native American', '% Asian', '% Pacific Islander', '% Other', '% Two or More Races']]\n",
    "y = mortality[\"Crude Rate\"].values.reshape(-1, 1)\n",
    "print(X.shape, y.shape)\n",
    "### END SOLUTION"
   ]
  },
  {
   "cell_type": "code",
   "execution_count": 55,
   "metadata": {
    "nbgrader": {
     "grade": false,
     "grade_id": "cell-62193e4c8caef9c5",
     "locked": false,
     "schema_version": 1,
     "solution": true
    }
   },
   "outputs": [
    {
     "name": "stdout",
     "output_type": "stream",
     "text": [
      "(1950, 10) (1950, 1)\n",
      "(650, 10) (650, 1)\n"
     ]
    }
   ],
   "source": [
    "# Split the data into training and testing\n",
    "\n",
    "### BEGIN SOLUTION\n",
    "from sklearn.model_selection import train_test_split\n",
    "\n",
    "X_train, X_test, y_train, y_test = train_test_split(X, y, random_state=42)\n",
    "print (X_train.shape, y_train.shape)\n",
    "print (X_test.shape, y_test.shape)\n",
    "\n",
    "### END SOLUTION"
   ]
  },
  {
   "cell_type": "code",
   "execution_count": 56,
   "metadata": {
    "nbgrader": {
     "grade": false,
     "grade_id": "cell-a885840c1f62d274",
     "locked": false,
     "schema_version": 1,
     "solution": true
    }
   },
   "outputs": [
    {
     "data": {
      "text/plain": [
       "Text(0,0.5,'Predictions')"
      ]
     },
     "execution_count": 56,
     "metadata": {},
     "output_type": "execute_result"
    },
    {
     "data": {
      "image/png": "[encoded data removed]",
      "text/plain": [
       "<Figure size 432x288 with 1 Axes>"
      ]
     },
     "metadata": {},
     "output_type": "display_data"
    }
   ],
   "source": [
    "# fit a model\n",
    "lm = linear_model.LinearRegression()\n",
    "model = lm.fit(X_train, y_train)\n",
    "predictions = lm.predict(X_test)\n",
    "\n",
    "plt.scatter(y_test, predictions)\n",
    "plt.xlabel('True Values')\n",
    "plt.ylabel('Predictions')"
   ]
  },
  {
   "cell_type": "code",
   "execution_count": 57,
   "metadata": {},
   "outputs": [
    {
     "data": {
      "text/html": [
       "<table class=\"simpletable\">\n",
       "<caption>OLS Regression Results</caption>\n",
       "<tr>\n",
       "  <th>Dep. Variable:</th>            <td>y</td>        <th>  R-squared:         </th> <td>   0.645</td> \n",
       "</tr>\n",
       "<tr>\n",
       "  <th>Model:</th>                   <td>OLS</td>       <th>  Adj. R-squared:    </th> <td>   0.643</td> \n",
       "</tr>\n",
       "<tr>\n",
       "  <th>Method:</th>             <td>Least Squares</td>  <th>  F-statistic:       </th> <td>   391.4</td> \n",
       "</tr>\n",
       "<tr>\n",
       "  <th>Date:</th>             <td>Thu, 13 Dec 2018</td> <th>  Prob (F-statistic):</th>  <td>  0.00</td>  \n",
       "</tr>\n",
       "<tr>\n",
       "  <th>Time:</th>                 <td>19:29:57</td>     <th>  Log-Likelihood:    </th> <td> -9508.3</td> \n",
       "</tr>\n",
       "<tr>\n",
       "  <th>No. Observations:</th>      <td>  1950</td>      <th>  AIC:               </th> <td>1.904e+04</td>\n",
       "</tr>\n",
       "<tr>\n",
       "  <th>Df Residuals:</th>          <td>  1940</td>      <th>  BIC:               </th> <td>1.909e+04</td>\n",
       "</tr>\n",
       "<tr>\n",
       "  <th>Df Model:</th>              <td>     9</td>      <th>                     </th>     <td> </td>    \n",
       "</tr>\n",
       "<tr>\n",
       "  <th>Covariance Type:</th>      <td>nonrobust</td>    <th>                     </th>     <td> </td>    \n",
       "</tr>\n",
       "</table>\n",
       "<table class=\"simpletable\">\n",
       "<tr>\n",
       "                  <td></td>                     <th>coef</th>     <th>std err</th>      <th>t</th>      <th>P>|t|</th>  <th>[0.025</th>    <th>0.975]</th>  \n",
       "</tr>\n",
       "<tr>\n",
       "  <th>Median Household Income ($)</th>       <td>   -0.0014</td> <td> 9.52e-05</td> <td>  -14.621</td> <td> 0.000</td> <td>   -0.002</td> <td>   -0.001</td>\n",
       "</tr>\n",
       "<tr>\n",
       "  <th>MYS</th>                               <td>  -12.2441</td> <td>    1.454</td> <td>   -8.421</td> <td> 0.000</td> <td>  -15.096</td> <td>   -9.393</td>\n",
       "</tr>\n",
       "<tr>\n",
       "  <th>Estimated Diabetes Rate Per 1,000</th> <td>    6.6073</td> <td>    0.400</td> <td>   16.503</td> <td> 0.000</td> <td>    5.822</td> <td>    7.392</td>\n",
       "</tr>\n",
       "<tr>\n",
       "  <th>% White</th>                           <td>    2.8813</td> <td>    0.204</td> <td>   14.151</td> <td> 0.000</td> <td>    2.482</td> <td>    3.281</td>\n",
       "</tr>\n",
       "<tr>\n",
       "  <th>% Black</th>                           <td>    3.3487</td> <td>    0.226</td> <td>   14.785</td> <td> 0.000</td> <td>    2.905</td> <td>    3.793</td>\n",
       "</tr>\n",
       "<tr>\n",
       "  <th>% Native American</th>                 <td>    3.0757</td> <td>    0.237</td> <td>   13.002</td> <td> 0.000</td> <td>    2.612</td> <td>    3.540</td>\n",
       "</tr>\n",
       "<tr>\n",
       "  <th>% Asian</th>                           <td>    3.5523</td> <td>    0.474</td> <td>    7.497</td> <td> 0.000</td> <td>    2.623</td> <td>    4.482</td>\n",
       "</tr>\n",
       "<tr>\n",
       "  <th>% Pacific Islander</th>                <td>   -2.0979</td> <td>    2.080</td> <td>   -1.008</td> <td> 0.313</td> <td>   -6.178</td> <td>    1.982</td>\n",
       "</tr>\n",
       "<tr>\n",
       "  <th>% Other</th>                           <td>    1.0596</td> <td>    0.266</td> <td>    3.990</td> <td> 0.000</td> <td>    0.539</td> <td>    1.580</td>\n",
       "</tr>\n",
       "<tr>\n",
       "  <th>% Two or More Races</th>               <td>    5.0555</td> <td>    0.556</td> <td>    9.090</td> <td> 0.000</td> <td>    3.965</td> <td>    6.146</td>\n",
       "</tr>\n",
       "</table>\n",
       "<table class=\"simpletable\">\n",
       "<tr>\n",
       "  <th>Omnibus:</th>       <td>471.234</td> <th>  Durbin-Watson:     </th> <td>   2.041</td>\n",
       "</tr>\n",
       "<tr>\n",
       "  <th>Prob(Omnibus):</th> <td> 0.000</td>  <th>  Jarque-Bera (JB):  </th> <td>1989.911</td>\n",
       "</tr>\n",
       "<tr>\n",
       "  <th>Skew:</th>          <td> 1.105</td>  <th>  Prob(JB):          </th> <td>    0.00</td>\n",
       "</tr>\n",
       "<tr>\n",
       "  <th>Kurtosis:</th>      <td> 7.428</td>  <th>  Cond. No.          </th> <td>1.42e+05</td>\n",
       "</tr>\n",
       "</table><br/><br/>Warnings:<br/>[1] Standard Errors assume that the covariance matrix of the errors is correctly specified.<br/>[2] The condition number is large, 1.42e+05. This might indicate that there are<br/>strong multicollinearity or other numerical problems."
      ],
      "text/plain": [
       "<class 'statsmodels.iolib.summary.Summary'>\n",
       "\"\"\"\n",
       "                            OLS Regression Results                            \n",
       "==============================================================================\n",
       "Dep. Variable:                      y   R-squared:                       0.645\n",
       "Model:                            OLS   Adj. R-squared:                  0.643\n",
       "Method:                 Least Squares   F-statistic:                     391.4\n",
       "Date:                Thu, 13 Dec 2018   Prob (F-statistic):               0.00\n",
       "Time:                        19:29:57   Log-Likelihood:                -9508.3\n",
       "No. Observations:                1950   AIC:                         1.904e+04\n",
       "Df Residuals:                    1940   BIC:                         1.909e+04\n",
       "Df Model:                           9                                         \n",
       "Covariance Type:            nonrobust                                         \n",
       "=====================================================================================================\n",
       "                                        coef    std err          t      P>|t|      [0.025      0.975]\n",
       "-----------------------------------------------------------------------------------------------------\n",
       "Median Household Income ($)          -0.0014   9.52e-05    -14.621      0.000      -0.002      -0.001\n",
       "MYS                                 -12.2441      1.454     -8.421      0.000     -15.096      -9.393\n",
       "Estimated Diabetes Rate Per 1,000     6.6073      0.400     16.503      0.000       5.822       7.392\n",
       "% White                               2.8813      0.204     14.151      0.000       2.482       3.281\n",
       "% Black                               3.3487      0.226     14.785      0.000       2.905       3.793\n",
       "% Native American                     3.0757      0.237     13.002      0.000       2.612       3.540\n",
       "% Asian                               3.5523      0.474      7.497      0.000       2.623       4.482\n",
       "% Pacific Islander                   -2.0979      2.080     -1.008      0.313      -6.178       1.982\n",
       "% Other                               1.0596      0.266      3.990      0.000       0.539       1.580\n",
       "% Two or More Races                   5.0555      0.556      9.090      0.000       3.965       6.146\n",
       "==============================================================================\n",
       "Omnibus:                      471.234   Durbin-Watson:                   2.041\n",
       "Prob(Omnibus):                  0.000   Jarque-Bera (JB):             1989.911\n",
       "Skew:                           1.105   Prob(JB):                         0.00\n",
       "Kurtosis:                       7.428   Cond. No.                     1.42e+05\n",
       "==============================================================================\n",
       "\n",
       "Warnings:\n",
       "[1] Standard Errors assume that the covariance matrix of the errors is correctly specified.\n",
       "[2] The condition number is large, 1.42e+05. This might indicate that there are\n",
       "strong multicollinearity or other numerical problems.\n",
       "\"\"\""
      ]
     },
     "execution_count": 57,
     "metadata": {},
     "output_type": "execute_result"
    }
   ],
   "source": [
    "# Note the difference in argument order\n",
    "model = sm.OLS(y_train, X_train).fit() ## sm.OLS(output, input)\n",
    "predictions = model.predict(X_test)\n",
    "\n",
    "# Print out the statistics\n",
    "model.summary()"
   ]
  },
  {
   "cell_type": "code",
   "execution_count": 58,
   "metadata": {},
   "outputs": [],
   "source": [
    "# np.corrcoef(y_test, y_test)"
   ]
  },
  {
   "cell_type": "code",
   "execution_count": 59,
   "metadata": {},
   "outputs": [
    {
     "name": "stderr",
     "output_type": "stream",
     "text": [
      "C:\\Users\\Carter\\Anaconda3\\lib\\site-packages\\sklearn\\preprocessing\\data.py:617: DataConversionWarning: Data with input dtype int64, float64 were all converted to float64 by StandardScaler.\n",
      "  return self.partial_fit(X, y)\n"
     ]
    }
   ],
   "source": [
    "from sklearn.preprocessing import StandardScaler\n",
    "\n",
    "# Create a StandardScaler model and fit it to the training data\n",
    "\n",
    "### BEGIN SOLUTION\n",
    "X_scaler = StandardScaler().fit(X_train)\n",
    "y_scaler = StandardScaler().fit(y_train)\n",
    "### END SOLUTION"
   ]
  },
  {
   "cell_type": "code",
   "execution_count": 60,
   "metadata": {
    "nbgrader": {
     "grade": false,
     "grade_id": "cell-a9cd5d1ec0f114ea",
     "locked": false,
     "schema_version": 1,
     "solution": true
    }
   },
   "outputs": [
    {
     "name": "stderr",
     "output_type": "stream",
     "text": [
      "C:\\Users\\Carter\\Anaconda3\\lib\\site-packages\\ipykernel_launcher.py:4: DataConversionWarning: Data with input dtype int64, float64 were all converted to float64 by StandardScaler.\n",
      "  after removing the cwd from sys.path.\n",
      "C:\\Users\\Carter\\Anaconda3\\lib\\site-packages\\ipykernel_launcher.py:5: DataConversionWarning: Data with input dtype int64, float64 were all converted to float64 by StandardScaler.\n",
      "  \"\"\"\n"
     ]
    }
   ],
   "source": [
    "# Transform the training and testing data using the X_scaler and y_scaler models\n",
    "\n",
    "### BEGIN SOLUTION\n",
    "X_train_scaled = X_scaler.transform(X_train)\n",
    "X_test_scaled = X_scaler.transform(X_test)\n",
    "y_train_scaled = y_scaler.transform(y_train)\n",
    "y_test_scaled = y_scaler.transform(y_test)\n",
    "### END SOLUTION"
   ]
  },
  {
   "cell_type": "code",
   "execution_count": 61,
   "metadata": {
    "nbgrader": {
     "grade": false,
     "grade_id": "cell-4df70e615bb36ac1",
     "locked": false,
     "schema_version": 1,
     "solution": true
    }
   },
   "outputs": [
    {
     "data": {
      "text/plain": [
       "LinearRegression(copy_X=True, fit_intercept=True, n_jobs=None,\n",
       "         normalize=False)"
      ]
     },
     "execution_count": 61,
     "metadata": {},
     "output_type": "execute_result"
    }
   ],
   "source": [
    "# Create a LinearRegression model and fit it to the scaled training data\n",
    "\n",
    "### BEGIN SOLUTION\n",
    "from sklearn.linear_model import LinearRegression\n",
    "model = LinearRegression()\n",
    "model.fit(X_train_scaled, y_train_scaled)\n",
    "### END SOLUTION"
   ]
  },
  {
   "cell_type": "code",
   "execution_count": 62,
   "metadata": {
    "nbgrader": {
     "grade": false,
     "grade_id": "cell-ec6532d8dc790021",
     "locked": false,
     "schema_version": 1,
     "solution": true
    }
   },
   "outputs": [
    {
     "data": {
      "image/png": "[encoded data removed]",
      "text/plain": [
       "<Figure size 432x288 with 1 Axes>"
      ]
     },
     "metadata": {},
     "output_type": "display_data"
    },
    {
     "data": {
      "text/plain": [
       "array([[-1.39235488e-03, -1.22440885e+01,  6.60728853e+00,\n",
       "         4.70531245e-01,  9.37979396e-01,  6.64998708e-01,\n",
       "         1.14152433e+00, -4.50866657e+00, -1.35116970e+00,\n",
       "         2.64480260e+00]])"
      ]
     },
     "execution_count": 62,
     "metadata": {},
     "output_type": "execute_result"
    }
   ],
   "source": [
    "# Make predictions using the X_test_scaled data\n",
    "# Plot y_test_scaled vs y_test_scaled\n",
    "# Scatter plot y_test_scaled vs predictions\n",
    "\n",
    "### BEGIN SOLUTION\n",
    "predictions = model.predict(X_test_scaled)\n",
    "model.fit(X_train_scaled, y_train_scaled)\n",
    "plt.scatter(model.predict(X_train_scaled), model.predict(X_train_scaled) - y_train_scaled, c=\"blue\", label=\"Training Data\")\n",
    "plt.scatter(model.predict(X_test_scaled), model.predict(X_test_scaled) - y_test_scaled, c=\"orange\", label=\"Testing Data\")\n",
    "plt.legend()\n",
    "plt.hlines(y=0, xmin=y_test_scaled.min(), xmax=y_test_scaled.max())\n",
    "plt.title(\"Residual Plot\")\n",
    "plt.show()\n",
    "lm.intercept_\n",
    "lm.coef_\n",
    "### END SOLUTION"
   ]
  },
  {
   "cell_type": "code",
   "execution_count": 63,
   "metadata": {
    "nbgrader": {
     "grade": false,
     "grade_id": "cell-deb1d9b663c1883f",
     "locked": false,
     "schema_version": 1,
     "solution": true
    }
   },
   "outputs": [
    {
     "name": "stdout",
     "output_type": "stream",
     "text": [
      "MSE: 0.3178005024639856, R2: 0.6445984411392507\n"
     ]
    }
   ],
   "source": [
    "# Used X_test_scaled, y_test_scaled, and model.predict(X_test_scaled) to calculate MSE and R2\n",
    "\n",
    "### BEGIN SOLUTION\n",
    "from sklearn.metrics import mean_squared_error\n",
    "\n",
    "MSE = mean_squared_error(y_test_scaled, predictions)\n",
    "r2 = model.score(X_test_scaled, y_test_scaled)\n",
    "### END SOLUTION\n",
    "\n",
    "print(f\"MSE: {MSE}, R2: {r2}\")"
   ]
  },
  {
   "cell_type": "code",
   "execution_count": 64,
   "metadata": {},
   "outputs": [
    {
     "name": "stdout",
     "output_type": "stream",
     "text": [
      "MSE: 17814.978454230564, R2: 0.6445984411392507\n"
     ]
    }
   ],
   "source": [
    "### BEGIN SOLUTION\n",
    "from sklearn.metrics import mean_squared_error\n",
    "\n",
    "MSE = mean_squared_error(y_test, predictions)\n",
    "r2 = model.score(X_test_scaled, y_test_scaled)\n",
    "### END SOLUTION\n",
    "\n",
    "print(f\"MSE: {MSE}, R2: {r2}\")"
   ]
  },
  {
   "cell_type": "code",
   "execution_count": 65,
   "metadata": {
    "nbgrader": {
     "grade": false,
     "grade_id": "cell-1dbfa38f409ceb7c",
     "locked": false,
     "schema_version": 1,
     "solution": true
    }
   },
   "outputs": [
    {
     "name": "stdout",
     "output_type": "stream",
     "text": [
      "MSE: 0.31977467955709443, R2: 0.6423906862398148\n"
     ]
    }
   ],
   "source": [
    "# LASSO model\n",
    "# Note: Use an alpha of .01 when creating the model for this activity\n",
    "from sklearn.linear_model import Lasso\n",
    "\n",
    "### BEGIN SOLUTION\n",
    "lasso = Lasso(alpha=.01).fit(X_train_scaled, y_train_scaled)\n",
    "\n",
    "predictions = lasso.predict(X_test_scaled)\n",
    "\n",
    "MSE = mean_squared_error(y_test_scaled, predictions)\n",
    "r2 = lasso.score(X_test_scaled, y_test_scaled)\n",
    "### END SOLUTION\n",
    "\n",
    "print(f\"MSE: {MSE}, R2: {r2}\")"
   ]
  },
  {
   "cell_type": "code",
   "execution_count": 66,
   "metadata": {
    "nbgrader": {
     "grade": false,
     "grade_id": "cell-d7adb5db2fc7b236",
     "locked": false,
     "schema_version": 1,
     "solution": true
    }
   },
   "outputs": [
    {
     "name": "stdout",
     "output_type": "stream",
     "text": [
      "MSE: 0.3183996681772415, R2: 0.6439283842109071\n"
     ]
    }
   ],
   "source": [
    "# Ridge model\n",
    "# Note: Use an alpha of .01 when creating the model for this activity\n",
    "from sklearn.linear_model import Ridge\n",
    "\n",
    "### BEGIN SOLUTION\n",
    "ridge = Ridge(alpha=.01).fit(X_train_scaled, y_train_scaled)\n",
    "\n",
    "predictions = ridge.predict(X_test_scaled)\n",
    "\n",
    "MSE = mean_squared_error(y_test_scaled, predictions)\n",
    "r2 = ridge.score(X_test_scaled, y_test_scaled)\n",
    "### END SOLUTION\n",
    "\n",
    "print(f\"MSE: {MSE}, R2: {r2}\")"
   ]
  },
  {
   "cell_type": "code",
   "execution_count": 67,
   "metadata": {
    "nbgrader": {
     "grade": false,
     "grade_id": "cell-5b0241abbdaa88e9",
     "locked": false,
     "schema_version": 1,
     "solution": true
    }
   },
   "outputs": [
    {
     "name": "stdout",
     "output_type": "stream",
     "text": [
      "MSE: 0.31870659565339265, R2: 0.6435851421372302\n"
     ]
    }
   ],
   "source": [
    "# ElasticNet model\n",
    "# Note: Use an alpha of .01 when creating the model for this activity\n",
    "from sklearn.linear_model import ElasticNet\n",
    "\n",
    "### BEGIN SOLUTION\n",
    "elasticnet = ElasticNet(alpha=.01).fit(X_train_scaled, y_train_scaled)\n",
    "\n",
    "predictions = elasticnet.predict(X_test_scaled)\n",
    "\n",
    "MSE = mean_squared_error(y_test_scaled, predictions)\n",
    "r2 = elasticnet.score(X_test_scaled, y_test_scaled)\n",
    "### END SOLUTION\n",
    "\n",
    "print(f\"MSE: {MSE}, R2: {r2}\")"
   ]
  },
  {
   "cell_type": "code",
   "execution_count": null,
   "metadata": {},
   "outputs": [],
   "source": []
  }
 ],
 "metadata": {
  "celltoolbar": "Create Assignment",
  "kernelspec": {
   "display_name": "Python 3",
   "language": "python",
   "name": "python3"
  },
  "language_info": {
   "codemirror_mode": {
    "name": "ipython",
    "version": 3
   },
   "file_extension": ".py",
   "mimetype": "text/x-python",
   "name": "python",
   "nbconvert_exporter": "python",
   "pygments_lexer": "ipython3",
   "version": "3.6.6"
  },
  "varInspector": {
   "cols": {
    "lenName": 16,
    "lenType": 16,
    "lenVar": 40
   },
   "kernels_config": {
    "python": {
     "delete_cmd_postfix": "",
     "delete_cmd_prefix": "del ",
     "library": "var_list.py",
     "varRefreshCmd": "print(var_dic_list())"
    },
    "r": {
     "delete_cmd_postfix": ") ",
     "delete_cmd_prefix": "rm(",
     "library": "var_list.r",
     "varRefreshCmd": "cat(var_dic_list()) "
    }
   },
   "types_to_exclude": [
    "module",
    "function",
    "builtin_function_or_method",
    "instance",
    "_Feature"
   ],
   "window_display": false
  }
 },
 "nbformat": 4,
 "nbformat_minor": 2
}
